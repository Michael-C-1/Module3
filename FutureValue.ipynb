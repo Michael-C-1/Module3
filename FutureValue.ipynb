{
  "nbformat": 4,
  "nbformat_minor": 0,
  "metadata": {
    "colab": {
      "name": "FutureValue.ipynb",
      "provenance": [],
      "collapsed_sections": []
    },
    "kernelspec": {
      "name": "python3",
      "display_name": "Python 3"
    }
  },
  "cells": [
    {
      "cell_type": "markdown",
      "metadata": {
        "id": "HmjGjfIzzysy",
        "colab_type": "text"
      },
      "source": [
        "#Future Value\n",
        "Here's how to get the future value of an investment. Ask the user for the info and put it in this formula\n",
        "\n",
        "FV=PV*(1+rate)<sup>years</sup>"
      ]
    },
    {
      "cell_type": "code",
      "metadata": {
        "id": "adLc_7AYzsif",
        "colab_type": "code",
        "colab": {
          "base_uri": "https://localhost:8080/",
          "height": 85
        },
        "outputId": "6c5d065c-ea67-4eed-9d33-188841bcffca"
      },
      "source": [
        "present_value = float(input('enter the present value: '))\n",
        "rate = float(input('enter the annual interest rate: '))\n",
        "years = float(input('enter how many years the money will grow: '))\n",
        "\n",
        "future_value = present_value * (1.0 + rate)**years\n",
        "\n",
        "print('This is how much money you will have: ', future_value)"
      ],
      "execution_count": 27,
      "outputs": [
        {
          "output_type": "stream",
          "text": [
            "enter the present value: 1000\n",
            "enter the annual interest rate: .05\n",
            "enter how many years the money will grow: 2\n",
            "This is how much money you will have:  1102.5\n"
          ],
          "name": "stdout"
        }
      ]
    }
  ]
}