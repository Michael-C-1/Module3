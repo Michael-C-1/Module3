{
  "nbformat": 4,
  "nbformat_minor": 0,
  "metadata": {
    "colab": {
      "name": "Present Value",
      "provenance": []
    },
    "kernelspec": {
      "name": "python3",
      "display_name": "Python 3"
    }
  },
  "cells": [
    {
      "cell_type": "markdown",
      "metadata": {
        "id": "-ZJ3d8NFqVhz",
        "colab_type": "text"
      },
      "source": [
        "#Present value\n",
        "Here's how to get the present value of an investment. Ask the user for the info, then plug it into this formula.\n",
        "\n",
        "PV=FV*(1+r)<sup>-years</sup>"
      ]
    },
    {
      "cell_type": "code",
      "metadata": {
        "id": "sAYu6GjDqHEY",
        "colab_type": "code",
        "colab": {
          "base_uri": "https://localhost:8080/",
          "height": 85
        },
        "outputId": "9e69dcb1-a89d-48de-a37c-1799dc77695f"
      },
      "source": [
        "future_value = float(input('enter the desired future value: '))\n",
        "rate = float(input('enter the annual interest rate: '))\n",
        "years = float(input('enter the number of years the money will grow: '))\n",
        "\n",
        "present_value = future_value * (1.0 + rate)**(-years)\n",
        "\n",
        "print(f'you will need to deposit this amount: {present_value:,.2f}')"
      ],
      "execution_count": null,
      "outputs": [
        {
          "output_type": "stream",
          "text": [
            "enter the desired future value: 1102.50\n",
            "enter the annual interest rate: .05\n",
            "enter the number of years the money will grow: 2\n",
            "you will need to deposit this amount: 1,000.00\n"
          ],
          "name": "stdout"
        }
      ]
    }
  ]
}